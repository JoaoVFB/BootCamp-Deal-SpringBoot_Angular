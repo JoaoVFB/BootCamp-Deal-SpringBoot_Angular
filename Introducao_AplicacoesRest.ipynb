{
  "nbformat": 4,
  "nbformat_minor": 0,
  "metadata": {
    "colab": {
      "provenance": []
    },
    "kernelspec": {
      "name": "python3",
      "display_name": "Python 3"
    },
    "language_info": {
      "name": "python"
    }
  },
  "cells": [
    {
      "cell_type": "markdown",
      "source": [
        "# **Introdução a aplicações Rest**\n",
        "\n",
        "### **O que é uma API?**\n",
        "\n",
        "Uma API ou Interface de Programação de Aplicações, é um conjunto de regras e definições que permite que diferentes aplicações de software ou componentes comuniquem entre si.\n",
        "\n",
        "### **APIs no contexto da Web**\n",
        "\n",
        "Na Web, as APIs são usadas para permitir a interação entre diferentes aplicações, como enviar dados de um usuário de um aplicativo para um servidor ou solicitar dados de um serviço externo.\n",
        "\n",
        "- Responsável por estabelecer comunicação entre diferentes serviços.\n",
        "- Meio de campo entre tecnologias.\n",
        "- Intermediador para troca de informações.\n",
        "\n",
        "\n",
        "### **REST**\n",
        "\n",
        "REST ou Representational State Transfer (Transferência de Estado Respresentativo), em termos práticos, faz a transferência de dados de uma maneira simbólica, figurativa, representativa, geralmente usando o protocolo HTTP, delimitando algumas obrigações nessas transferências de dados."
      ],
      "metadata": {
        "id": "FOk45CLQOACW"
      }
    },
    {
      "cell_type": "markdown",
      "source": [
        "## RESTful\n",
        "RESTful, é a aplicação dos padrões REST.\n",
        "\n",
        "### 6 NECESSIDADES (constraints) para ser RESTful\n",
        "\n",
        "-**_Client-server_** :  Separação do cliente e do armazenamento de dados (servidor), dessa forma, podemos ter uma portabilidade do nosso sistema usando React para WEB e React Native para o smartphone.\n",
        "\n",
        "-**_Stateless_** : Cada requisição que o cliente faz para o servidor, deverá conter todas as informações para o servidor responder (RESPONSE) a requisição (REQUEST). Exemplo: a sessão do usuário deverá ser enviada em todas as requisições, para saber se aquele usuário está autenticado e apto a usar os serviços, e o servidor não pode lembrar que o cliente foi autenticado na requisição anterior.\n",
        "\n",
        "- _Cacheable_: As respostas para uma requisição, deverão ser explicitas ao dizer se aquela requisição, pode ou não ser cacheada pelo cliente.\n",
        "\n",
        "- _Layered System_ : O cliente acessa um endpoint, sem precisar saber da complexidade, de quais passos estão sendo necessários para o servidor responder a requisição, ou quais outras camadas o servidor estará lidando, para que a requisição seja respondida.\n",
        "\n",
        "- _Code on demand (optional)_: Da a possibilida da nossa aplicação pegar código JavaScript, por exemplo, e executar no cliente.\n",
        "\n",
        "## **Verbos HTTP**\n",
        "\n",
        "- GET: É usado para solicitar informações de um rescurso específico do servidor. Não altera nenhuma dado ou informação. Simplesmente, você está pedindo ao servidor para obter uma informação.\n",
        "\n",
        "- POST: É usado para enviar dados ao servidor com o objetivo de criar um novo recurso. É frequentemente utilizado para cadastra um novo usuário, produto, ou enviar informações de uim formulário.\n",
        "\n",
        "- PUT: Utilizado para fazer atualização de dados ou informações salvas em um servidor, como editar dados de um usuário, produto, etc.\n",
        "\n",
        "_ DELETE: Como o próprio nome já diz, servee para deletar dados ou informações do servidor."
      ],
      "metadata": {
        "id": "rgN1fAs2dLCc"
      }
    },
    {
      "cell_type": "code",
      "execution_count": null,
      "metadata": {
        "id": "cFLB4z5vMouR"
      },
      "outputs": [],
      "source": []
    },
    {
      "cell_type": "markdown",
      "source": [
        "## Construindo uma API do zero"
      ],
      "metadata": {
        "id": "29nwWUiaTGui"
      }
    }
  ]
}